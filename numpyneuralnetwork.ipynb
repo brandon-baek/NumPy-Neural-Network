{
  "nbformat": 4,
  "nbformat_minor": 0,
  "metadata": {
    "colab": {
      "provenance": [],
      "collapsed_sections": [
        "9a60-JRF05be",
        "CKY5QCf0onCl",
        "XQlfxnHT1cpo"
      ]
    },
    "kernelspec": {
      "name": "python3",
      "display_name": "Python 3"
    },
    "language_info": {
      "name": "python"
    }
  },
  "cells": [
    {
      "cell_type": "markdown",
      "source": [
        "# **NumPy Neural Network**"
      ],
      "metadata": {
        "id": "Qx4thYZHotWR"
      }
    },
    {
      "cell_type": "markdown",
      "source": [
        "## About"
      ],
      "metadata": {
        "id": "9a60-JRF05be"
      }
    },
    {
      "cell_type": "markdown",
      "source": [
        "This is a Neural Network developed from scratch using Numpy by Brandon Baek.\n",
        "\n",
        "It is trained on a micro dataset containing data for a XOR Gate. It has 1 hidden layer with 32 nodes. It uses a ReLU function for the activation function and follows basic back propogation methods. During training, it has a learning rate of 1e-3 and has a total of 100000 Epochs."
      ],
      "metadata": {
        "id": "OJyA0Dqe1AXt"
      }
    },
    {
      "cell_type": "markdown",
      "source": [
        "## Neural Network"
      ],
      "metadata": {
        "id": "CKY5QCf0onCl"
      }
    },
    {
      "cell_type": "markdown",
      "source": [
        "### Initilization"
      ],
      "metadata": {
        "id": "moY3clu8owfg"
      }
    },
    {
      "cell_type": "code",
      "execution_count": null,
      "metadata": {
        "id": "CjBzJnIVYMB5"
      },
      "outputs": [],
      "source": [
        "import numpy as np"
      ]
    },
    {
      "cell_type": "markdown",
      "source": [
        "### Training Data"
      ],
      "metadata": {
        "id": "-gNrU4Nwozbf"
      }
    },
    {
      "cell_type": "code",
      "source": [
        "training_data = [\n",
        "    [[0, 0], [0]],\n",
        "    [[0, 1], [1]],\n",
        "    [[1, 0], [1]],\n",
        "    [[1, 1], [0]]\n",
        "]"
      ],
      "metadata": {
        "id": "IyxENMZsKaYP"
      },
      "execution_count": null,
      "outputs": []
    },
    {
      "cell_type": "markdown",
      "source": [
        "### Neural Network Setup"
      ],
      "metadata": {
        "id": "cAd8JFn8o3Eq"
      }
    },
    {
      "cell_type": "markdown",
      "source": [
        "#### Setup"
      ],
      "metadata": {
        "id": "ViLbv6vRwlU3"
      }
    },
    {
      "cell_type": "code",
      "source": [
        "i_data = np.array([i[0] for i in training_data])\n",
        "o_data = np.array([i[1] for i in training_data]).reshape(-1, 1)"
      ],
      "metadata": {
        "id": "yLuYPxJFTnkZ"
      },
      "execution_count": null,
      "outputs": []
    },
    {
      "cell_type": "code",
      "source": [
        "layer_sizes = [i_data.shape[1], 32, o_data.shape[1]]"
      ],
      "metadata": {
        "id": "Xu6XZ-TpqUP2"
      },
      "execution_count": null,
      "outputs": []
    },
    {
      "cell_type": "code",
      "source": [
        "weights = [np.random.randn(layer_sizes[i], layer_sizes[i + 1]) for i in range(len(layer_sizes) - 1)]"
      ],
      "metadata": {
        "id": "lfIHCCQRqZ8-"
      },
      "execution_count": null,
      "outputs": []
    },
    {
      "cell_type": "markdown",
      "source": [
        "#### Activation Function"
      ],
      "metadata": {
        "id": "iDAw_lExqxmy"
      }
    },
    {
      "cell_type": "code",
      "source": [
        "def relu(x):\n",
        "    return np.maximum(x, 0)"
      ],
      "metadata": {
        "id": "3_6X0WS9qcYd"
      },
      "execution_count": null,
      "outputs": []
    },
    {
      "cell_type": "code",
      "source": [
        "def relu_derivative(x):\n",
        "    return np.where(x > 0, 1, 0)"
      ],
      "metadata": {
        "id": "MidB889ZvfE-"
      },
      "execution_count": null,
      "outputs": []
    },
    {
      "cell_type": "markdown",
      "source": [
        "#### Forward Pass"
      ],
      "metadata": {
        "id": "W89lbqzaqu2e"
      }
    },
    {
      "cell_type": "code",
      "source": [
        "def forward(data, weights):\n",
        "    activations = [data]\n",
        "    for w in weights:\n",
        "        data = relu(np.dot(data, w))\n",
        "        activations.append(data)\n",
        "    return activations"
      ],
      "metadata": {
        "id": "tZ1zT8G7qe3D"
      },
      "execution_count": null,
      "outputs": []
    },
    {
      "cell_type": "markdown",
      "source": [
        "#### Backward Pass"
      ],
      "metadata": {
        "id": "vrc5BkiFqsbg"
      }
    },
    {
      "cell_type": "code",
      "source": [
        "def backward(activations, weights, o_data, learning_rate):\n",
        "    grad_pred = 2.0 * (activations[-1] - o_data)\n",
        "    grads = [grad_pred]\n",
        "\n",
        "    for i in range(len(weights) - 1, 0, -1):\n",
        "        grad = np.dot(grads[0], weights[i].T) * relu_derivative(activations[i])\n",
        "        grads.insert(0, grad)\n",
        "\n",
        "    for i in range(len(weights)):\n",
        "        grad_w = np.dot(activations[i].T, grads[i])\n",
        "        weights[i] -= learning_rate * grad_w"
      ],
      "metadata": {
        "id": "csK2_vowqfT8"
      },
      "execution_count": null,
      "outputs": []
    },
    {
      "cell_type": "markdown",
      "source": [
        "### Neural Network Training"
      ],
      "metadata": {
        "id": "j_qflHjbo7kp"
      }
    },
    {
      "cell_type": "code",
      "source": [
        "learning_rate = 1e-3"
      ],
      "metadata": {
        "id": "I9z7grGOZ_Xj"
      },
      "execution_count": null,
      "outputs": []
    },
    {
      "cell_type": "code",
      "source": [
        "for i in range(100000):\n",
        "    activations = forward(i_data, weights)\n",
        "    backward(activations, weights, o_data, learning_rate)\n",
        "\n",
        "loss = np.square(activations[-1] - o_data).sum()\n",
        "print('Loss:', loss)"
      ],
      "metadata": {
        "colab": {
          "base_uri": "https://localhost:8080/"
        },
        "id": "70ykJNDNKN5g",
        "outputId": "1f8d2e8e-6b93-4f34-c4a8-97bd634c83f9"
      },
      "execution_count": null,
      "outputs": [
        {
          "output_type": "stream",
          "name": "stdout",
          "text": [
            "Loss: 3.2047474274603605e-30\n"
          ]
        }
      ]
    },
    {
      "cell_type": "markdown",
      "source": [
        "## Final Product"
      ],
      "metadata": {
        "id": "wcURx9kTo-MF"
      }
    },
    {
      "cell_type": "code",
      "source": [
        "def neural_network(data):\n",
        "    activations = forward(np.array(data), weights)\n",
        "    return activations[-1][0]"
      ],
      "metadata": {
        "id": "Syo7tSzaLTZQ"
      },
      "execution_count": null,
      "outputs": []
    },
    {
      "cell_type": "code",
      "source": [
        "print(int(round(neural_network([1, 1]))))"
      ],
      "metadata": {
        "id": "m4qA7Fw7UoZQ"
      },
      "execution_count": null,
      "outputs": []
    },
    {
      "cell_type": "markdown",
      "source": [
        "#### Test"
      ],
      "metadata": {
        "id": "e2dKvHkRv0cv"
      }
    },
    {
      "cell_type": "code",
      "source": [
        "for input_data, target in training_data:\n",
        "    output = neural_network(input_data)\n",
        "    print(f'Input: {input_data}, Target: {target[0]}, Output: {output}')"
      ],
      "metadata": {
        "id": "u2o3rSJrvvIb"
      },
      "execution_count": null,
      "outputs": []
    },
    {
      "cell_type": "markdown",
      "source": [
        "## Credits"
      ],
      "metadata": {
        "id": "XQlfxnHT1cpo"
      }
    },
    {
      "cell_type": "markdown",
      "source": [
        "Founder and Sole Developer: **Brandon Baek**"
      ],
      "metadata": {
        "id": "pTdP8a4Q1kdH"
      }
    }
  ]
}
